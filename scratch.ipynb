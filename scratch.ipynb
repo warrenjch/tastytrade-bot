{
 "cells": [
  {
   "cell_type": "code",
   "id": "initial_id",
   "metadata": {
    "collapsed": true,
    "ExecuteTime": {
     "end_time": "2025-06-12T07:35:22.417948Z",
     "start_time": "2025-06-12T07:35:17.644659Z"
    }
   },
   "source": [
    "import nest_asyncio\n",
    "import pandas as pd\n",
    "import numpy as np\n",
    "from tastytrade import Account, Session, DXLinkStreamer\n",
    "from tastytrade.dxfeed import Quote, Candle\n",
    "from tastytrade.instruments import *\n",
    "from tastytrade.market_data import *\n",
    "import yfinance as yf\n",
    "from itertools import chain\n",
    "from config import *\n",
    "from alphas import *\n",
    "from auxiliary import *\n",
    "from datetime import datetime, timedelta, time\n",
    "import asyncio\n",
    "import requests\n",
    "import logging\n",
    "import json\n",
    "nest_asyncio.apply()\n",
    "\n",
    "session=None\n",
    "account=None\n",
    "\n",
    "async def setup():\n",
    "    global session, account, config\n",
    "    # setup\n",
    "    config = Config(test=False)\n",
    "    session = Session(config.username, config.password, is_test=config.test)\n",
    "    account = await Account.a_get(session, config.account_number)\n",
    "\n",
    "    # account info\n",
    "    balance = account.get_balances(session)\n",
    "    positions = account.get_positions(session)\n",
    "    history = account.get_history(session)\n",
    "\n",
    "asyncio.run(setup())\n",
    "print(\"Session and account setup complete.\")\n",
    "\n",
    "streamer = DXLinkStreamer(session) #async streamer"
   ],
   "outputs": [
    {
     "name": "stdout",
     "output_type": "stream",
     "text": [
      "Session and account setup complete.\n"
     ]
    }
   ],
   "execution_count": 2
  },
  {
   "metadata": {
    "ExecuteTime": {
     "end_time": "2025-06-12T08:43:11.287320Z",
     "start_time": "2025-06-12T08:43:08.195068Z"
    }
   },
   "cell_type": "code",
   "source": [
    "SPXoptionchain = get_option_chain(session, \"SPX\")\n",
    "VIXoptionchain = get_option_chain(session, \"VIX\")\n",
    "\n",
    "SPXexpiries = list(SPXoptionchain.keys())\n",
    "VIXexpiries = list(VIXoptionchain.keys())\n",
    "\n",
    "SPXdata = get_market_data_by_type(session,indices = ['SPX'])\n",
    "VIXdata = get_market_data_by_type(session,indices = ['VIX'])\n",
    "print(SPXdata)"
   ],
   "id": "6f24ab37b7526d99",
   "outputs": [
    {
     "name": "stdout",
     "output_type": "stream",
     "text": [
      "[MarketData(symbol='SPX' instrument_type=<InstrumentType.INDEX: 'Index'> updated_at=datetime.datetime(2025, 6, 12, 5, 36, 20, 909000, tzinfo=TzInfo(UTC)) mark=Decimal('6017.51') close_price_type=<ClosePriceType.REGULAR: 'Regular'> summary_date=datetime.date(2025, 6, 12) prev_close_date=datetime.date(2025, 6, 11) prev_close_price_type=<ClosePriceType.REGULAR: 'Regular'> halt_start_time=-1 halt_end_time=-1 ask=Decimal('6067.86') beta=Decimal('1.0') bid=Decimal('5967.16') day_high_price=Decimal('6059.4') day_low_price=Decimal('6002.32') last=Decimal('6022.24') last_mkt=Decimal('6022.24') mid=Decimal('6017.51') open=Decimal('6049.38') prev_close=Decimal('6022.24') year_low_price=Decimal('4835.04') year_high_price=Decimal('6147.43'))]\n"
     ]
    }
   ],
   "execution_count": 7
  },
  {
   "metadata": {
    "ExecuteTime": {
     "end_time": "2025-06-12T07:49:45.233936Z",
     "start_time": "2025-06-12T07:49:45.227471Z"
    }
   },
   "cell_type": "code",
   "source": "date.today()",
   "id": "1bc6dbc8d322a945",
   "outputs": [
    {
     "data": {
      "text/plain": [
       "datetime.date(2025, 6, 12)"
      ]
     },
     "execution_count": 5,
     "metadata": {},
     "output_type": "execute_result"
    }
   ],
   "execution_count": 5
  },
  {
   "metadata": {
    "ExecuteTime": {
     "end_time": "2025-06-12T08:34:32.249571Z",
     "start_time": "2025-06-12T08:34:32.244930Z"
    }
   },
   "cell_type": "code",
   "source": [
    "first5=SPXexpiries[:5]\n",
    "sd=first5[-1]+timedelta(days=1)\n",
    "def ldm(d): nd=datetime(d.year+1,1,1) if d.month==12 else datetime(d.year,d.month+1,1); return nd-timedelta(days=1)\n",
    "eoms=[d for d in SPXexpiries if d>=sd and d.day==ldm(d).day][:6]\n",
    "SPXsavelist=first5+eoms\n",
    "VIXsavelist=VIXexpiries[:10]"
   ],
   "id": "d142e75b977a5764",
   "outputs": [],
   "execution_count": 6
  },
  {
   "metadata": {
    "ExecuteTime": {
     "end_time": "2025-06-12T08:44:14.940888Z",
     "start_time": "2025-06-12T08:44:14.937650Z"
    }
   },
   "cell_type": "code",
   "source": [
    "SPXspot = SPXdata[0].last\n",
    "VIXspot = VIXdata[0].last"
   ],
   "id": "20a377d9a65c6c48",
   "outputs": [],
   "execution_count": 10
  },
  {
   "metadata": {
    "ExecuteTime": {
     "end_time": "2025-06-12T08:48:14.123939Z",
     "start_time": "2025-06-12T08:47:43.912428Z"
    }
   },
   "cell_type": "code",
   "source": [
    "payload = {\n",
    "    \"SPX\": {\"spot\": SPXspot},\n",
    "    \"VIX\": {\"spot\": VIXspot}\n",
    "}\n",
    "\n",
    "for exp in SPXsavelist:\n",
    "    payload[\"SPX\"][exp.isoformat()] = {\n",
    "        \"optionchain\": OptionMethods.convertchain(session, SPXoptionchain[exp])\n",
    "    }\n",
    "\n",
    "for exp in VIXsavelist:\n",
    "    payload[\"VIX\"][exp.isoformat()] = {\n",
    "        \"optionchain\": OptionMethods.convertchain(session, VIXoptionchain[exp])\n",
    "    }\n",
    "\n",
    "snapshot = {\n",
    "    \"date\": date.today().isoformat(),\n",
    "    \"period\": \"AM\" if datetime.now().time() < time(12, 0) else \"PM\",\n",
    "    \"fetchtime\": datetime.now().isoformat(),\n",
    "    \"rfr\": 4.5,\n",
    "    \"payload\": payload\n",
    "}"
   ],
   "id": "ee62cbf48a49a0b8",
   "outputs": [],
   "execution_count": 14
  },
  {
   "metadata": {},
   "cell_type": "code",
   "outputs": [],
   "execution_count": null,
   "source": "",
   "id": "517a0b01e8458552"
  }
 ],
 "metadata": {
  "kernelspec": {
   "display_name": "Python 3",
   "language": "python",
   "name": "python3"
  },
  "language_info": {
   "codemirror_mode": {
    "name": "ipython",
    "version": 2
   },
   "file_extension": ".py",
   "mimetype": "text/x-python",
   "name": "python",
   "nbconvert_exporter": "python",
   "pygments_lexer": "ipython2",
   "version": "2.7.6"
  }
 },
 "nbformat": 4,
 "nbformat_minor": 5
}
