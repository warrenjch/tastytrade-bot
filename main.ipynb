{
 "cells": [
  {
   "cell_type": "code",
   "execution_count": 49,
   "id": "initial_id",
   "metadata": {
    "collapsed": true,
    "ExecuteTime": {
     "end_time": "2025-02-10T08:27:21.749572Z",
     "start_time": "2025-02-10T08:27:21.743561Z"
    }
   },
   "outputs": [],
   "source": [
    "import time\n",
    "from datetime import datetime, date, time, timedelta\n",
    "import asyncio\n",
    "import nest_asyncio\n",
    "from IPython.display import display\n",
    "import matplotlib.pyplot as plt\n",
    "import pandas as pd\n",
    "from tastytrade import Account, Session, DXLinkStreamer\n",
    "from tastytrade.dxfeed import Quote, Candle\n",
    "from config import *\n",
    "\n",
    "nest_asyncio.apply()"
   ]
  },
  {
   "cell_type": "code",
   "outputs": [],
   "source": [
    "session=None\n",
    "account=None\n",
    "\n",
    "async def setup():\n",
    "    global session, account\n",
    "    # setup\n",
    "    config = Config(test=True)\n",
    "    session = Session(config.username, config.password, is_test=config.test)\n",
    "    account = await Account.a_get_account(session, config.account_number)\n",
    "\n",
    "    # account info\n",
    "    balance = account.get_balances(session)\n",
    "    positions = account.get_positions(session)\n",
    "    history = account.get_history(session)"
   ],
   "metadata": {
    "collapsed": false,
    "ExecuteTime": {
     "end_time": "2025-02-10T08:05:29.210296Z",
     "start_time": "2025-02-10T08:05:29.206239Z"
    }
   },
   "id": "ca3c88c6bceea75b",
   "execution_count": 17
  },
  {
   "cell_type": "code",
   "outputs": [],
   "source": [
    "asyncio.run(setup())"
   ],
   "metadata": {
    "collapsed": false,
    "ExecuteTime": {
     "end_time": "2025-02-10T08:05:38.282330Z",
     "start_time": "2025-02-10T08:05:29.220423Z"
    }
   },
   "id": "19f614d60e6808fe",
   "execution_count": 19
  },
  {
   "cell_type": "code",
   "outputs": [],
   "source": [
    "async def stream():\n",
    "    global session, account\n",
    "    streamer = await DXLinkStreamer(session)\n",
    "    candles = []\n",
    "    queuelengths = []\n",
    "    \n",
    "    symbols = [\"NVDA\"]\n",
    "    interval = \"5m\"\n",
    "    start_time = datetime(2024,1,1,21,30,0)\n",
    "    \n",
    "    await streamer.subscribe_candle(symbols, interval, start_time)\n",
    "    \n",
    "    while len(candles) < 1000 or streamer._queues[\"Candle\"].qsize() > 0:\n",
    "        # input a rough estimate for how many data points will be required, and this will loop for that many iterations until the queue is empty\n",
    "        candle = await streamer.get_event(Candle)\n",
    "        candles.append(candle)\n",
    "        queuelengths.append(streamer._queues[\"Candle\"].qsize())\n",
    "        if len(candles)%1000 ==0:\n",
    "            print(len(candles))\n",
    "    \n",
    "    #candles = streamer._queues[\"Candle\"]\n",
    "    #print(candles)\n",
    "    return candles, queuelengths"
   ],
   "metadata": {
    "collapsed": false,
    "ExecuteTime": {
     "end_time": "2025-02-10T10:07:44.082612Z",
     "start_time": "2025-02-10T10:07:44.076984Z"
    }
   },
   "id": "64d9208960b95659",
   "execution_count": 159
  },
  {
   "cell_type": "code",
   "outputs": [
    {
     "name": "stdout",
     "output_type": "stream",
     "text": [
      "1000\n",
      "2000\n",
      "3000\n",
      "4000\n",
      "5000\n"
     ]
    }
   ],
   "source": [
    "candles, queuelengths = asyncio.run(stream())"
   ],
   "metadata": {
    "collapsed": false,
    "ExecuteTime": {
     "end_time": "2025-02-10T10:07:47.286851Z",
     "start_time": "2025-02-10T10:07:44.490657Z"
    }
   },
   "id": "e5e5f3de11a2d4b2",
   "execution_count": 160
  },
  {
   "cell_type": "code",
   "outputs": [],
   "source": [
    "times = [[datetime.fromtimestamp(candle.time/1000), candle.open, candle.high, candle.low, candle.close] for candle in candles]\n",
    "df = pd.DataFrame(times, columns=[\"time\", \"open\", \"high\", \"low\", \"close\"])"
   ],
   "metadata": {
    "collapsed": false,
    "ExecuteTime": {
     "end_time": "2025-02-10T10:07:49.393341Z",
     "start_time": "2025-02-10T10:07:49.375357Z"
    }
   },
   "id": "7b84d0fde33d78f4",
   "execution_count": 161
  },
  {
   "cell_type": "code",
   "outputs": [
    {
     "data": {
      "text/plain": "                    time      open    high      low     close\n0    2025-02-08 04:58:00   129.865   130.0  129.815    129.87\n1    2025-02-08 04:56:00    129.74   129.9   129.67  129.8602\n2    2025-02-08 04:54:00    129.81  129.85    129.6   129.745\n3    2025-02-08 04:52:00    129.58  129.82  129.535  129.8199\n4    2025-02-08 04:50:00    129.38  129.64   129.38  129.5739\n...                  ...       ...     ...      ...       ...\n5261 2024-12-30 22:36:00  135.0242  135.57   134.58    135.56\n5262 2024-12-30 22:34:00   134.375  135.06  134.225    135.01\n5263 2024-12-30 22:32:00    135.09  135.18   134.02    134.36\n5264 2024-12-30 22:30:00    134.83  135.62   134.41   135.056\n5265 2024-12-29 08:00:00         0       0        0         0\n\n[5266 rows x 5 columns]",
      "text/html": "<div>\n<style scoped>\n    .dataframe tbody tr th:only-of-type {\n        vertical-align: middle;\n    }\n\n    .dataframe tbody tr th {\n        vertical-align: top;\n    }\n\n    .dataframe thead th {\n        text-align: right;\n    }\n</style>\n<table border=\"1\" class=\"dataframe\">\n  <thead>\n    <tr style=\"text-align: right;\">\n      <th></th>\n      <th>time</th>\n      <th>open</th>\n      <th>high</th>\n      <th>low</th>\n      <th>close</th>\n    </tr>\n  </thead>\n  <tbody>\n    <tr>\n      <th>0</th>\n      <td>2025-02-08 04:58:00</td>\n      <td>129.865</td>\n      <td>130.0</td>\n      <td>129.815</td>\n      <td>129.87</td>\n    </tr>\n    <tr>\n      <th>1</th>\n      <td>2025-02-08 04:56:00</td>\n      <td>129.74</td>\n      <td>129.9</td>\n      <td>129.67</td>\n      <td>129.8602</td>\n    </tr>\n    <tr>\n      <th>2</th>\n      <td>2025-02-08 04:54:00</td>\n      <td>129.81</td>\n      <td>129.85</td>\n      <td>129.6</td>\n      <td>129.745</td>\n    </tr>\n    <tr>\n      <th>3</th>\n      <td>2025-02-08 04:52:00</td>\n      <td>129.58</td>\n      <td>129.82</td>\n      <td>129.535</td>\n      <td>129.8199</td>\n    </tr>\n    <tr>\n      <th>4</th>\n      <td>2025-02-08 04:50:00</td>\n      <td>129.38</td>\n      <td>129.64</td>\n      <td>129.38</td>\n      <td>129.5739</td>\n    </tr>\n    <tr>\n      <th>...</th>\n      <td>...</td>\n      <td>...</td>\n      <td>...</td>\n      <td>...</td>\n      <td>...</td>\n    </tr>\n    <tr>\n      <th>5261</th>\n      <td>2024-12-30 22:36:00</td>\n      <td>135.0242</td>\n      <td>135.57</td>\n      <td>134.58</td>\n      <td>135.56</td>\n    </tr>\n    <tr>\n      <th>5262</th>\n      <td>2024-12-30 22:34:00</td>\n      <td>134.375</td>\n      <td>135.06</td>\n      <td>134.225</td>\n      <td>135.01</td>\n    </tr>\n    <tr>\n      <th>5263</th>\n      <td>2024-12-30 22:32:00</td>\n      <td>135.09</td>\n      <td>135.18</td>\n      <td>134.02</td>\n      <td>134.36</td>\n    </tr>\n    <tr>\n      <th>5264</th>\n      <td>2024-12-30 22:30:00</td>\n      <td>134.83</td>\n      <td>135.62</td>\n      <td>134.41</td>\n      <td>135.056</td>\n    </tr>\n    <tr>\n      <th>5265</th>\n      <td>2024-12-29 08:00:00</td>\n      <td>0</td>\n      <td>0</td>\n      <td>0</td>\n      <td>0</td>\n    </tr>\n  </tbody>\n</table>\n<p>5266 rows × 5 columns</p>\n</div>"
     },
     "metadata": {},
     "output_type": "display_data"
    }
   ],
   "source": [
    "display(df)"
   ],
   "metadata": {
    "collapsed": false,
    "ExecuteTime": {
     "end_time": "2025-02-10T10:07:49.981646Z",
     "start_time": "2025-02-10T10:07:49.972441Z"
    }
   },
   "id": "4eb34fd3e4f12742",
   "execution_count": 162
  },
  {
   "cell_type": "code",
   "outputs": [
    {
     "data": {
      "text/plain": "<Figure size 640x480 with 1 Axes>",
      "image/png": "[encoded data removed]"
     },
     "metadata": {},
     "output_type": "display_data"
    }
   ],
   "source": [
    "plt.plot(queuelengths)\n",
    "plt.xlabel('iteration')\n",
    "plt.ylabel('queue length')\n",
    "plt.title('2m queue stopped at 2024-12-30 22:30:00 SGT')\n",
    "plt.show()"
   ],
   "metadata": {
    "collapsed": false,
    "ExecuteTime": {
     "end_time": "2025-02-10T10:08:11.261870Z",
     "start_time": "2025-02-10T10:08:11.164707Z"
    }
   },
   "id": "f504d193cfa797e3",
   "execution_count": 164
  },
  {
   "cell_type": "code",
   "outputs": [],
   "source": [],
   "metadata": {
    "collapsed": false
   },
   "id": "84e4386f50bc9ea4"
  }
 ],
 "metadata": {
  "kernelspec": {
   "display_name": "Python 3",
   "language": "python",
   "name": "python3"
  },
  "language_info": {
   "codemirror_mode": {
    "name": "ipython",
    "version": 2
   },
   "file_extension": ".py",
   "mimetype": "text/x-python",
   "name": "python",
   "nbconvert_exporter": "python",
   "pygments_lexer": "ipython2",
   "version": "2.7.6"
  }
 },
 "nbformat": 4,
 "nbformat_minor": 5
}
