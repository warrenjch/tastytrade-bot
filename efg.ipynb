{
 "cells": [
  {
   "cell_type": "code",
   "id": "initial_id",
   "metadata": {
    "collapsed": true,
    "ExecuteTime": {
     "end_time": "2025-04-28T08:55:22.512779Z",
     "start_time": "2025-04-28T08:55:16.517805Z"
    }
   },
   "source": [
    "%load_ext autoreload\n",
    "%autoreload 2\n",
    "import time\n",
    "from datetime import datetime, date, time, timedelta\n",
    "import asyncio\n",
    "import nest_asyncio\n",
    "import importlib\n",
    "from IPython.display import display\n",
    "import matplotlib.pyplot as plt\n",
    "import pandas as pd\n",
    "from tastytrade import Account, Session, DXLinkStreamer\n",
    "from tastytrade.dxfeed import Quote, Candle\n",
    "from tastytrade.instruments import *\n",
    "from config import *\n",
    "from alphas import *\n",
    "\n",
    "nest_asyncio.apply()"
   ],
   "outputs": [],
   "execution_count": 1
  },
  {
   "metadata": {
    "ExecuteTime": {
     "end_time": "2025-04-28T08:55:24.307401Z",
     "start_time": "2025-04-28T08:55:23.548762Z"
    }
   },
   "cell_type": "code",
   "source": [
    "import tastytrade.instruments\n",
    "importlib.reload(tastytrade.instruments)"
   ],
   "id": "1b1d838c1645f6f7",
   "outputs": [
    {
     "data": {
      "text/plain": [
       "<module 'tastytrade.instruments' from 'C:\\\\Users\\\\warre\\\\PycharmProjects\\\\tastytrade-bot\\\\.venv\\\\Lib\\\\site-packages\\\\tastytrade\\\\instruments.py'>"
      ]
     },
     "execution_count": 2,
     "metadata": {},
     "output_type": "execute_result"
    }
   ],
   "execution_count": 2
  },
  {
   "metadata": {
    "ExecuteTime": {
     "end_time": "2025-04-28T08:55:30.281896Z",
     "start_time": "2025-04-28T08:55:25.917116Z"
    }
   },
   "cell_type": "code",
   "source": [
    "session=None\n",
    "account=None\n",
    "\n",
    "async def setup():\n",
    "    global session, account\n",
    "    # setup\n",
    "    config = Config(test=False)\n",
    "    session = Session(config.username, config.password, is_test=config.test)\n",
    "    account = await Account.a_get(session, config.account_number)\n",
    "\n",
    "    # account info\n",
    "    balance = account.get_balances(session)\n",
    "    positions = account.get_positions(session)\n",
    "    history = account.get_history(session)\n",
    "\n",
    "asyncio.run(setup())"
   ],
   "id": "581155ebbf6c5251",
   "outputs": [],
   "execution_count": 3
  },
  {
   "metadata": {
    "ExecuteTime": {
     "end_time": "2025-04-28T08:55:40.890745Z",
     "start_time": "2025-04-28T08:55:38.421205Z"
    }
   },
   "cell_type": "code",
   "source": [
    "streamer = DXLinkStreamer(session) #async streamer\n",
    "\n",
    "SPXoptionchain = get_option_chain(session, \"SPX\")\n",
    "VIXoptionchain = get_option_chain(session, \"VIX\")\n",
    "\n",
    "SPXexpiries = SPXoptionchain.keys()\n",
    "VIXexpiries = VIXoptionchain.keys()\n",
    "#print(SPXexpiries)"
   ],
   "id": "4fbe50d5eab29e34",
   "outputs": [],
   "execution_count": 4
  },
  {
   "metadata": {
    "ExecuteTime": {
     "end_time": "2025-04-28T08:57:17.002403Z",
     "start_time": "2025-04-28T08:57:16.231870Z"
    }
   },
   "cell_type": "code",
   "source": [
    "VXfutures = Future.get(session, symbols = None, product_codes=[\"VX\"])\n",
    "VXfm = VXfutures[-1]\n",
    "VXbm = VXfutures[-2]"
   ],
   "id": "130058eb48d86b5",
   "outputs": [],
   "execution_count": 7
  },
  {
   "metadata": {
    "ExecuteTime": {
     "end_time": "2025-04-28T09:21:26.619370Z",
     "start_time": "2025-04-28T09:21:26.581408Z"
    }
   },
   "cell_type": "code",
   "source": "VXfm",
   "id": "83238d8f763521ec",
   "outputs": [
    {
     "data": {
      "text/plain": [
       "Future(instrument_type=<InstrumentType.FUTURE: 'Future'>, symbol='/VXK25', product_code='VX', tick_size=Decimal('0.05'), notional_multiplier=Decimal('1000.0'), display_factor=Decimal('1.0'), last_trade_date=datetime.date(2025, 5, 21), expiration_date=datetime.date(2025, 5, 21), closing_only_date=datetime.date(2025, 5, 21), active=True, active_month=True, next_active_month=False, is_closing_only=False, stops_trading_at=datetime.datetime(2025, 5, 21, 13, 30, tzinfo=TzInfo(UTC)), expires_at=datetime.datetime(2025, 5, 21, 13, 30, tzinfo=TzInfo(UTC)), product_group='CFE', exchange='CFE', streamer_exchange_code='XCBF', back_month_first_calendar_symbol=True, streamer_symbol='/VXK25:XCBF', is_tradeable=True, future_product=FutureProduct(root_symbol='/VX', code='VX', description='Volatility Index', exchange='CFE', product_type='Financial', listed_months=[<FutureMonthCode.JAN: 'F'>, <FutureMonthCode.FEB: 'G'>, <FutureMonthCode.MAR: 'H'>, <FutureMonthCode.APR: 'J'>, <FutureMonthCode.MAY: 'K'>, <FutureMonthCode.JUN: 'M'>, <FutureMonthCode.JUL: 'N'>, <FutureMonthCode.AUG: 'Q'>, <FutureMonthCode.SEP: 'U'>, <FutureMonthCode.OCT: 'V'>, <FutureMonthCode.NOV: 'X'>, <FutureMonthCode.DEC: 'Z'>], active_months=[<FutureMonthCode.JAN: 'F'>, <FutureMonthCode.FEB: 'G'>, <FutureMonthCode.MAR: 'H'>, <FutureMonthCode.APR: 'J'>, <FutureMonthCode.MAY: 'K'>, <FutureMonthCode.JUN: 'M'>, <FutureMonthCode.JUL: 'N'>, <FutureMonthCode.AUG: 'Q'>, <FutureMonthCode.SEP: 'U'>, <FutureMonthCode.OCT: 'V'>, <FutureMonthCode.NOV: 'X'>, <FutureMonthCode.DEC: 'Z'>], notional_multiplier=Decimal('1000.0'), tick_size=Decimal('0.05'), display_factor=Decimal('1.0'), streamer_exchange_code='XCBF', small_notional=False, back_month_first_calendar_symbol=True, first_notice=False, cash_settled=True, market_sector='Equity Index', clearing_code='VX', clearing_exchange_code='7B', roll=Roll(name='vx', active_count=3, cash_settled=True, business_days_offset=5, first_notice=False), base_tick=None, sub_tick=None, contract_limit=None, product_subtype=None, security_group='VX', true_underlying_code=None, clearport_code=None, legacy_code=None, legacy_exchange_code=None, option_products=None), contract_size=Decimal('1000.0'), main_fraction=Decimal('0.0'), sub_fraction=Decimal('0.0'), first_notice_date=None, roll_target_symbol='/VXM25', true_underlying_symbol=None, future_etf_equivalent=None, tick_sizes=[TickSize(value=Decimal('0.05'), threshold=None, symbol=None)], option_tick_sizes=None, spread_tick_sizes=[TickSize(value=Decimal('0.01'), threshold=None, symbol='/VXM25'), TickSize(value=Decimal('0.01'), threshold=None, symbol='/VXN25')])"
      ]
     },
     "execution_count": 17,
     "metadata": {},
     "output_type": "execute_result"
    }
   ],
   "execution_count": 17
  },
  {
   "metadata": {
    "ExecuteTime": {
     "end_time": "2025-04-28T08:58:56.611652Z",
     "start_time": "2025-04-28T08:58:55.813357Z"
    }
   },
   "cell_type": "code",
   "source": [
    "req = {\n",
    "    \"future\": [VXfm.symbol, VXbm.symbol]\n",
    "}\n",
    "VXdata = get_market_data(session,req)\n",
    "print(VXdata)"
   ],
   "id": "1b1c50f36707a14d",
   "outputs": [
    {
     "name": "stdout",
     "output_type": "stream",
     "text": [
      "[{'symbol': '/VXK25', 'instrument-type': 'Future', 'updated-at': '2025-04-28T08:58:48.816Z', 'bid': '23.5', 'bid-size': '5.0', 'ask': '23.55', 'ask-size': '70.0', 'mid': '23.525', 'mark': '23.55', 'last': '23.55', 'last-mkt': '23.55', 'open': '23.4', 'day-high-price': '23.85', 'day-low-price': '23.4', 'close-price-type': 'Regular', 'prev-close': '23.5', 'prev-close-price-type': 'Final', 'summary-date': '2025-04-28', 'prev-close-date': '2025-04-25', 'low-limit-price': '16.45', 'high-limit-price': '39.9', 'is-trading-halted': False, 'trading-halted-reason': '', 'halt-start-time': -1, 'halt-end-time': -1, 'volume': '2012.0'}, {'symbol': '/VXM25', 'instrument-type': 'Future', 'updated-at': '2025-04-28T08:58:53.819Z', 'bid': '23.2', 'bid-size': '121.0', 'ask': '23.3', 'ask-size': '125.0', 'mid': '23.25', 'mark': '23.3', 'last': '23.3', 'last-mkt': '23.3', 'open': '23.25', 'day-high-price': '23.55', 'day-low-price': '23.25', 'close-price-type': 'Regular', 'prev-close': '23.26', 'prev-close-price-type': 'Final', 'summary-date': '2025-04-28', 'prev-close-date': '2025-04-25', 'low-limit-price': '16.3', 'high-limit-price': '39.5', 'is-trading-halted': False, 'halt-start-time': -1, 'halt-end-time': -1, 'volume': '1277.0'}]\n"
     ]
    }
   ],
   "execution_count": 10
  },
  {
   "metadata": {
    "ExecuteTime": {
     "end_time": "2025-04-28T08:59:56.707933Z",
     "start_time": "2025-04-28T08:59:56.669683Z"
    }
   },
   "cell_type": "code",
   "source": "SPXexpiries",
   "id": "46da450ad692b0b9",
   "outputs": [
    {
     "data": {
      "text/plain": [
       "dict_keys([datetime.date(2025, 4, 28), datetime.date(2025, 4, 29), datetime.date(2025, 4, 30), datetime.date(2025, 5, 1), datetime.date(2025, 5, 2), datetime.date(2025, 5, 5), datetime.date(2025, 5, 6), datetime.date(2025, 5, 7), datetime.date(2025, 5, 8), datetime.date(2025, 5, 9), datetime.date(2025, 5, 12), datetime.date(2025, 5, 13), datetime.date(2025, 5, 14), datetime.date(2025, 5, 15), datetime.date(2025, 5, 16), datetime.date(2025, 5, 19), datetime.date(2025, 5, 20), datetime.date(2025, 5, 21), datetime.date(2025, 5, 22), datetime.date(2025, 5, 23), datetime.date(2025, 5, 27), datetime.date(2025, 5, 28), datetime.date(2025, 5, 29), datetime.date(2025, 5, 30), datetime.date(2025, 6, 2), datetime.date(2025, 6, 3), datetime.date(2025, 6, 4), datetime.date(2025, 6, 6), datetime.date(2025, 6, 9), datetime.date(2025, 6, 13), datetime.date(2025, 6, 20), datetime.date(2025, 6, 30), datetime.date(2025, 7, 18), datetime.date(2025, 7, 31), datetime.date(2025, 8, 15), datetime.date(2025, 8, 29), datetime.date(2025, 9, 19), datetime.date(2025, 9, 30), datetime.date(2025, 10, 17), datetime.date(2025, 11, 21), datetime.date(2025, 12, 19), datetime.date(2025, 12, 31), datetime.date(2026, 1, 16), datetime.date(2026, 2, 20), datetime.date(2026, 3, 20), datetime.date(2026, 3, 31), datetime.date(2026, 4, 17), datetime.date(2026, 5, 15), datetime.date(2026, 6, 18), datetime.date(2026, 12, 18), datetime.date(2027, 12, 17), datetime.date(2028, 12, 15), datetime.date(2029, 12, 21), datetime.date(2030, 12, 20)])"
      ]
     },
     "execution_count": 12,
     "metadata": {},
     "output_type": "execute_result"
    }
   ],
   "execution_count": 12
  },
  {
   "metadata": {
    "ExecuteTime": {
     "end_time": "2025-04-28T09:04:17.121292Z",
     "start_time": "2025-04-28T09:04:17.063238Z"
    }
   },
   "cell_type": "code",
   "source": "date.today()",
   "id": "3dda66ad28739cf6",
   "outputs": [
    {
     "data": {
      "text/plain": [
       "datetime.date(2025, 4, 28)"
      ]
     },
     "execution_count": 13,
     "metadata": {},
     "output_type": "execute_result"
    }
   ],
   "execution_count": 13
  },
  {
   "metadata": {
    "ExecuteTime": {
     "end_time": "2025-04-28T09:08:58.071225Z",
     "start_time": "2025-04-28T09:08:57.263099Z"
    }
   },
   "cell_type": "code",
   "source": "#rfr needs to be taken from yfinance tt does not have",
   "id": "ccea6c59ffffd57c",
   "outputs": [
    {
     "name": "stdout",
     "output_type": "stream",
     "text": [
      "[]\n"
     ]
    }
   ],
   "execution_count": 16
  },
  {
   "metadata": {},
   "cell_type": "code",
   "outputs": [],
   "execution_count": null,
   "source": "rfr = 0.05",
   "id": "97617f66562a729d"
  }
 ],
 "metadata": {
  "kernelspec": {
   "display_name": "Python 3",
   "language": "python",
   "name": "python3"
  },
  "language_info": {
   "codemirror_mode": {
    "name": "ipython",
    "version": 2
   },
   "file_extension": ".py",
   "mimetype": "text/x-python",
   "name": "python",
   "nbconvert_exporter": "python",
   "pygments_lexer": "ipython2",
   "version": "2.7.6"
  }
 },
 "nbformat": 4,
 "nbformat_minor": 5
}
