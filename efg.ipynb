{
 "cells": [
  {
   "cell_type": "code",
   "id": "initial_id",
   "metadata": {
    "collapsed": true,
    "ExecuteTime": {
     "end_time": "2025-04-25T06:12:22.763608Z",
     "start_time": "2025-04-25T06:12:11.981386Z"
    }
   },
   "source": [
    "%load_ext autoreload\n",
    "%autoreload 2\n",
    "import time\n",
    "from datetime import datetime, date, time, timedelta\n",
    "import asyncio\n",
    "import nest_asyncio\n",
    "import importlib\n",
    "from IPython.display import display\n",
    "import matplotlib.pyplot as plt\n",
    "import pandas as pd\n",
    "from tastytrade import Account, Session, DXLinkStreamer\n",
    "from tastytrade.dxfeed import Quote, Candle\n",
    "from tastytrade.instruments import *\n",
    "from config import *\n",
    "from alphas import *\n",
    "\n",
    "nest_asyncio.apply()"
   ],
   "outputs": [],
   "execution_count": 1
  },
  {
   "metadata": {
    "ExecuteTime": {
     "end_time": "2025-04-25T06:12:23.129161Z",
     "start_time": "2025-04-25T06:12:22.775205Z"
    }
   },
   "cell_type": "code",
   "source": [
    "import tastytrade.instruments\n",
    "importlib.reload(tastytrade.instruments)"
   ],
   "id": "1b1d838c1645f6f7",
   "outputs": [
    {
     "data": {
      "text/plain": [
       "<module 'tastytrade.instruments' from 'C:\\\\Users\\\\warre\\\\PycharmProjects\\\\tastytrade-bot\\\\.venv\\\\Lib\\\\site-packages\\\\tastytrade\\\\instruments.py'>"
      ]
     },
     "execution_count": 2,
     "metadata": {},
     "output_type": "execute_result"
    }
   ],
   "execution_count": 2
  },
  {
   "metadata": {
    "ExecuteTime": {
     "end_time": "2025-04-25T06:12:28.274327Z",
     "start_time": "2025-04-25T06:12:23.816893Z"
    }
   },
   "cell_type": "code",
   "source": [
    "session=None\n",
    "account=None\n",
    "\n",
    "async def setup():\n",
    "    global session, account\n",
    "    # setup\n",
    "    config = Config(test=False)\n",
    "    session = Session(config.username, config.password, is_test=config.test)\n",
    "    account = await Account.a_get(session, config.account_number)\n",
    "\n",
    "    # account info\n",
    "    balance = account.get_balances(session)\n",
    "    positions = account.get_positions(session)\n",
    "    history = account.get_history(session)\n",
    "\n",
    "asyncio.run(setup())"
   ],
   "id": "581155ebbf6c5251",
   "outputs": [],
   "execution_count": 3
  },
  {
   "metadata": {
    "ExecuteTime": {
     "end_time": "2025-04-25T06:12:36.005601Z",
     "start_time": "2025-04-25T06:12:33.484269Z"
    }
   },
   "cell_type": "code",
   "source": [
    "streamer = DXLinkStreamer(session) #async streamer\n",
    "\n",
    "SPXoptionchain = get_option_chain(session, \"SPX\")\n",
    "VIXoptionchain = get_option_chain(session, \"VIX\")\n",
    "\n",
    "SPXexpiries = SPXoptionchain.keys()\n",
    "VIXexpiries = VIXoptionchain.keys()\n",
    "#print(SPXexpiries)"
   ],
   "id": "4fbe50d5eab29e34",
   "outputs": [],
   "execution_count": 4
  },
  {
   "metadata": {
    "ExecuteTime": {
     "end_time": "2025-04-25T06:12:36.308205Z",
     "start_time": "2025-04-25T06:12:36.012122Z"
    }
   },
   "cell_type": "code",
   "source": [
    "VXfutures = Future.get(session, symbols = None, product_codes=[\"VX\"])\n",
    "VXfm = VXfutures[-1]\n",
    "Vxbm = VXfutures[-2]"
   ],
   "id": "130058eb48d86b5",
   "outputs": [],
   "execution_count": 5
  },
  {
   "metadata": {
    "ExecuteTime": {
     "end_time": "2025-04-25T06:12:38.624925Z",
     "start_time": "2025-04-25T06:12:38.586843Z"
    }
   },
   "cell_type": "code",
   "source": "VXfm",
   "id": "83238d8f763521ec",
   "outputs": [
    {
     "data": {
      "text/plain": [
       "Future(instrument_type=<InstrumentType.FUTURE: 'Future'>, symbol='/VXK25', product_code='VX', tick_size=Decimal('0.05'), notional_multiplier=Decimal('1000.0'), display_factor=Decimal('1.0'), last_trade_date=datetime.date(2025, 5, 21), expiration_date=datetime.date(2025, 5, 21), closing_only_date=datetime.date(2025, 5, 21), active=True, active_month=True, next_active_month=False, is_closing_only=False, stops_trading_at=datetime.datetime(2025, 5, 21, 13, 30, tzinfo=TzInfo(UTC)), expires_at=datetime.datetime(2025, 5, 21, 13, 30, tzinfo=TzInfo(UTC)), product_group='CFE', exchange='CFE', streamer_exchange_code='XCBF', back_month_first_calendar_symbol=True, streamer_symbol='/VXK25:XCBF', is_tradeable=True, future_product=FutureProduct(root_symbol='/VX', code='VX', description='Volatility Index', exchange='CFE', product_type='Financial', listed_months=[<FutureMonthCode.JAN: 'F'>, <FutureMonthCode.FEB: 'G'>, <FutureMonthCode.MAR: 'H'>, <FutureMonthCode.APR: 'J'>, <FutureMonthCode.MAY: 'K'>, <FutureMonthCode.JUN: 'M'>, <FutureMonthCode.JUL: 'N'>, <FutureMonthCode.AUG: 'Q'>, <FutureMonthCode.SEP: 'U'>, <FutureMonthCode.OCT: 'V'>, <FutureMonthCode.NOV: 'X'>, <FutureMonthCode.DEC: 'Z'>], active_months=[<FutureMonthCode.JAN: 'F'>, <FutureMonthCode.FEB: 'G'>, <FutureMonthCode.MAR: 'H'>, <FutureMonthCode.APR: 'J'>, <FutureMonthCode.MAY: 'K'>, <FutureMonthCode.JUN: 'M'>, <FutureMonthCode.JUL: 'N'>, <FutureMonthCode.AUG: 'Q'>, <FutureMonthCode.SEP: 'U'>, <FutureMonthCode.OCT: 'V'>, <FutureMonthCode.NOV: 'X'>, <FutureMonthCode.DEC: 'Z'>], notional_multiplier=Decimal('1000.0'), tick_size=Decimal('0.05'), display_factor=Decimal('1.0'), streamer_exchange_code='XCBF', small_notional=False, back_month_first_calendar_symbol=True, first_notice=False, cash_settled=True, market_sector='Equity Index', clearing_code='VX', clearing_exchange_code='7B', roll=Roll(name='vx', active_count=3, cash_settled=True, business_days_offset=5, first_notice=False), base_tick=None, sub_tick=None, contract_limit=None, product_subtype=None, security_group='VX', true_underlying_code=None, clearport_code=None, legacy_code=None, legacy_exchange_code=None, option_products=None), contract_size=Decimal('1000.0'), main_fraction=Decimal('0.0'), sub_fraction=Decimal('0.0'), first_notice_date=None, roll_target_symbol='/VXM25', true_underlying_symbol=None, future_etf_equivalent=None, tick_sizes=[TickSize(value=Decimal('0.05'), threshold=None, symbol=None)], option_tick_sizes=None, spread_tick_sizes=[TickSize(value=Decimal('0.01'), threshold=None, symbol='/VXM25'), TickSize(value=Decimal('0.01'), threshold=None, symbol='/VXN25')])"
      ]
     },
     "execution_count": 6,
     "metadata": {},
     "output_type": "execute_result"
    }
   ],
   "execution_count": 6
  },
  {
   "metadata": {
    "ExecuteTime": {
     "end_time": "2025-04-25T06:29:31.747272Z",
     "start_time": "2025-04-25T06:29:30.956795Z"
    }
   },
   "cell_type": "code",
   "source": [
    "req = {\n",
    "    \"equity\": [\"AAPL\"],\n",
    "    \"equity-option\": [\"AAPL  250620C00180000\"],\n",
    "    \"cryptocurrency\": [\"BTC/USD\"],\n",
    "    \"future\": [\"/ESM5\"]\n",
    "}\n",
    "r = get_market_data_by_type(session,req)\n",
    "print(r['items'])"
   ],
   "id": "1b1c50f36707a14d",
   "outputs": [
    {
     "name": "stdout",
     "output_type": "stream",
     "text": [
      "[{'symbol': 'BTC/USD', 'instrument-type': 'Cryptocurrency', 'updated-at': '2025-04-25T06:29:31.118Z', 'bid': '93017.47', 'bid-size': '0.11516167', 'ask': '93971.74', 'ask-size': '0.0', 'mid': '93494.605', 'mark': '93494.605', 'last': '93494.61', 'last-mkt': '93494.61', 'open': '93089.28', 'day-high-price': '93497.265', 'day-low-price': '93047.21', 'close-price-type': 'Regular', 'prev-close': '93090.695', 'prev-close-price-type': 'Regular', 'summary-date': '2025-04-25', 'prev-close-date': '2025-04-24', 'is-trading-halted': False, 'trading-halted-reason': '', 'halt-start-time': -1, 'halt-end-time': -1, 'year-low-price': '49149.415', 'year-high-price': '109558.42', 'volume': '0.0'}, {'symbol': 'AAPL', 'instrument-type': 'Equity', 'updated-at': '2025-04-24T23:59:57.958Z', 'bid': '207.91', 'bid-size': '4.0', 'ask': '208.0', 'ask-size': '1.0', 'mid': '207.955', 'mark': '207.9991', 'last': '207.9991', 'last-ext': '221.8511', 'last-mkt': '208.37', 'beta': '1.265958606', 'dividend-amount': '0.25', 'dividend-frequency': '4.0', 'open': '204.89', 'day-high-price': '208.8299', 'day-low-price': '202.94', 'close': '208.37', 'close-price-type': 'Final', 'prev-close': '204.6', 'prev-close-price-type': 'Final', 'summary-date': '2025-04-24', 'prev-close-date': '2025-04-23', 'low-limit-price': '186.53', 'high-limit-price': '227.98', 'is-trading-halted': False, 'trading-halted-reason': '', 'halt-start-time': -1, 'halt-end-time': -1, 'year-low-price': '168.1511', 'year-high-price': '260.1', 'volume': '47310989.0'}, {'symbol': '/ESM5', 'instrument-type': 'Future', 'updated-at': '2025-04-25T06:29:31.119Z', 'bid': '5535.5', 'bid-size': '11.0', 'ask': '5535.75', 'ask-size': '7.0', 'mid': '5535.625', 'mark': '5535.75', 'last': '5535.75', 'last-mkt': '5535.75', 'open': '5529.0', 'day-high-price': '5553.0', 'day-low-price': '5517.75', 'close-price-type': 'Regular', 'prev-close': '5511.25', 'prev-close-price-type': 'Final', 'summary-date': '2025-04-25', 'prev-close-date': '2025-04-24', 'low-limit-price': '5127.25', 'high-limit-price': '5894.75', 'is-trading-halted': False, 'trading-halted-reason': '', 'halt-start-time': -1, 'halt-end-time': -1, 'volume': '69840.0'}, {'symbol': 'AAPL  250620C00180000', 'instrument-type': 'Equity Option', 'updated-at': '2025-04-24T23:59:57.499Z', 'bid': '32.05', 'bid-size': '1.0', 'ask': '32.4', 'ask-size': '1.0', 'mid': '32.225', 'mark': '32.225', 'last': '32.61', 'last-mkt': '32.61', 'open': '29.35', 'day-high-price': '32.61', 'day-low-price': '29.35', 'close': '32.61', 'close-price-type': 'Regular', 'prev-close': '30.2', 'prev-close-price-type': 'Regular', 'summary-date': '2025-04-24', 'prev-close-date': '2025-04-23', 'is-trading-halted': False, 'halt-start-time': -1, 'halt-end-time': -1, 'volume': '51.0', 'volatility': '0.450391837', 'delta': '0.816565474', 'gamma': '0.007182777', 'theta': '-0.08629495', 'rho': '0.214594838', 'vega': '0.217929689', 'theo-price': '32.02601301', 'dx-mark': '32.02601301', 'tick-size': '0.01', 'open-interest': 6350}]\n"
     ]
    }
   ],
   "execution_count": 26
  },
  {
   "metadata": {},
   "cell_type": "code",
   "outputs": [],
   "execution_count": null,
   "source": "",
   "id": "46da450ad692b0b9"
  }
 ],
 "metadata": {
  "kernelspec": {
   "display_name": "Python 3",
   "language": "python",
   "name": "python3"
  },
  "language_info": {
   "codemirror_mode": {
    "name": "ipython",
    "version": 2
   },
   "file_extension": ".py",
   "mimetype": "text/x-python",
   "name": "python",
   "nbconvert_exporter": "python",
   "pygments_lexer": "ipython2",
   "version": "2.7.6"
  }
 },
 "nbformat": 4,
 "nbformat_minor": 5
}
