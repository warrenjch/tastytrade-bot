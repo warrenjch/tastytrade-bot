{
 "cells": [
  {
   "cell_type": "code",
   "id": "initial_id",
   "metadata": {
    "collapsed": true,
    "ExecuteTime": {
     "end_time": "2025-04-23T09:12:50.024338Z",
     "start_time": "2025-04-23T09:12:49.238020Z"
    }
   },
   "source": [
    "import time\n",
    "from datetime import datetime, date, time, timedelta\n",
    "import asyncio\n",
    "import nest_asyncio\n",
    "from IPython.display import display\n",
    "import matplotlib.pyplot as plt\n",
    "import pandas as pd\n",
    "from tastytrade import Account, Session, DXLinkStreamer\n",
    "from tastytrade.dxfeed import Quote, Candle\n",
    "from tastytrade.instruments import *\n",
    "from config import *\n",
    "from alphas import *\n",
    "\n",
    "nest_asyncio.apply()"
   ],
   "outputs": [],
   "execution_count": 1
  },
  {
   "metadata": {
    "ExecuteTime": {
     "end_time": "2025-04-23T09:12:54.394107Z",
     "start_time": "2025-04-23T09:12:50.029274Z"
    }
   },
   "cell_type": "code",
   "source": [
    "session=None\n",
    "account=None\n",
    "\n",
    "async def setup():\n",
    "    global session, account\n",
    "    # setup\n",
    "    config = Config(test=False)\n",
    "    session = Session(config.username, config.password, is_test=config.test)\n",
    "    account = await Account.a_get(session, config.account_number)\n",
    "\n",
    "    # account info\n",
    "    balance = account.get_balances(session)\n",
    "    positions = account.get_positions(session)\n",
    "    history = account.get_history(session)\n",
    "\n",
    "asyncio.run(setup())"
   ],
   "id": "581155ebbf6c5251",
   "outputs": [],
   "execution_count": 2
  },
  {
   "metadata": {
    "ExecuteTime": {
     "end_time": "2025-04-23T09:12:56.170260Z",
     "start_time": "2025-04-23T09:12:54.491216Z"
    }
   },
   "cell_type": "code",
   "source": [
    "streamer = DXLinkStreamer(session) #async streamer\n",
    "\n",
    "SPXoptionchain = get_option_chain(session, \"SPX\")\n",
    "VIXoptionchain = get_option_chain(session, \"VIX\")\n",
    "\n",
    "SPXexpiries = SPXoptionchain.keys()\n",
    "VIXexpiries = VIXoptionchain.keys()\n",
    "print(SPXexpiries)"
   ],
   "id": "4fbe50d5eab29e34",
   "outputs": [
    {
     "name": "stdout",
     "output_type": "stream",
     "text": [
      "dict_keys([datetime.date(2025, 4, 22), datetime.date(2025, 4, 23), datetime.date(2025, 4, 24), datetime.date(2025, 4, 25), datetime.date(2025, 4, 28), datetime.date(2025, 4, 29), datetime.date(2025, 4, 30), datetime.date(2025, 5, 1), datetime.date(2025, 5, 2), datetime.date(2025, 5, 5), datetime.date(2025, 5, 6), datetime.date(2025, 5, 7), datetime.date(2025, 5, 8), datetime.date(2025, 5, 9), datetime.date(2025, 5, 12), datetime.date(2025, 5, 13), datetime.date(2025, 5, 14), datetime.date(2025, 5, 15), datetime.date(2025, 5, 16), datetime.date(2025, 5, 19), datetime.date(2025, 5, 20), datetime.date(2025, 5, 21), datetime.date(2025, 5, 22), datetime.date(2025, 5, 23), datetime.date(2025, 5, 27), datetime.date(2025, 5, 28), datetime.date(2025, 5, 29), datetime.date(2025, 5, 30), datetime.date(2025, 6, 2), datetime.date(2025, 6, 6), datetime.date(2025, 6, 20), datetime.date(2025, 6, 30), datetime.date(2025, 7, 18), datetime.date(2025, 7, 31), datetime.date(2025, 8, 15), datetime.date(2025, 8, 29), datetime.date(2025, 9, 19), datetime.date(2025, 9, 30), datetime.date(2025, 10, 17), datetime.date(2025, 11, 21), datetime.date(2025, 12, 19), datetime.date(2025, 12, 31), datetime.date(2026, 1, 16), datetime.date(2026, 2, 20), datetime.date(2026, 3, 20), datetime.date(2026, 3, 31), datetime.date(2026, 4, 17), datetime.date(2026, 5, 15), datetime.date(2026, 6, 18), datetime.date(2026, 12, 18), datetime.date(2027, 12, 17), datetime.date(2028, 12, 15), datetime.date(2029, 12, 21), datetime.date(2030, 12, 20)])\n"
     ]
    }
   ],
   "execution_count": 3
  },
  {
   "metadata": {
    "ExecuteTime": {
     "end_time": "2025-04-23T09:12:56.673070Z",
     "start_time": "2025-04-23T09:12:56.414108Z"
    }
   },
   "cell_type": "code",
   "source": [
    "VXfutures = Future.get(session, symbols = None, product_codes=[\"VX\"])\n",
    "VXfm = VXfutures[-1]\n",
    "Vxbm = VXfutures[-2]"
   ],
   "id": "130058eb48d86b5",
   "outputs": [],
   "execution_count": 4
  },
  {
   "metadata": {
    "ExecuteTime": {
     "end_time": "2025-04-23T09:12:56.920771Z",
     "start_time": "2025-04-23T09:12:56.915704Z"
    }
   },
   "cell_type": "code",
   "source": "VXfm",
   "id": "83238d8f763521ec",
   "outputs": [
    {
     "data": {
      "text/plain": [
       "Future(instrument_type=<InstrumentType.FUTURE: 'Future'>, symbol='/VXK25', product_code='VX', tick_size=Decimal('0.05'), notional_multiplier=Decimal('1000.0'), display_factor=Decimal('1.0'), last_trade_date=datetime.date(2025, 5, 21), expiration_date=datetime.date(2025, 5, 21), closing_only_date=datetime.date(2025, 5, 21), active=True, active_month=True, next_active_month=False, is_closing_only=False, stops_trading_at=datetime.datetime(2025, 5, 21, 13, 30, tzinfo=TzInfo(UTC)), expires_at=datetime.datetime(2025, 5, 21, 13, 30, tzinfo=TzInfo(UTC)), product_group='CFE', exchange='CFE', streamer_exchange_code='XCBF', back_month_first_calendar_symbol=True, streamer_symbol='/VXK25:XCBF', is_tradeable=True, future_product=FutureProduct(root_symbol='/VX', code='VX', description='Volatility Index', exchange='CFE', product_type='Financial', listed_months=[<FutureMonthCode.JAN: 'F'>, <FutureMonthCode.FEB: 'G'>, <FutureMonthCode.MAR: 'H'>, <FutureMonthCode.APR: 'J'>, <FutureMonthCode.MAY: 'K'>, <FutureMonthCode.JUN: 'M'>, <FutureMonthCode.JUL: 'N'>, <FutureMonthCode.AUG: 'Q'>, <FutureMonthCode.SEP: 'U'>, <FutureMonthCode.OCT: 'V'>, <FutureMonthCode.NOV: 'X'>, <FutureMonthCode.DEC: 'Z'>], active_months=[<FutureMonthCode.JAN: 'F'>, <FutureMonthCode.FEB: 'G'>, <FutureMonthCode.MAR: 'H'>, <FutureMonthCode.APR: 'J'>, <FutureMonthCode.MAY: 'K'>, <FutureMonthCode.JUN: 'M'>, <FutureMonthCode.JUL: 'N'>, <FutureMonthCode.AUG: 'Q'>, <FutureMonthCode.SEP: 'U'>, <FutureMonthCode.OCT: 'V'>, <FutureMonthCode.NOV: 'X'>, <FutureMonthCode.DEC: 'Z'>], notional_multiplier=Decimal('1000.0'), tick_size=Decimal('0.05'), display_factor=Decimal('1.0'), streamer_exchange_code='XCBF', small_notional=False, back_month_first_calendar_symbol=True, first_notice=False, cash_settled=True, market_sector='Equity Index', clearing_code='VX', clearing_exchange_code='7B', roll=Roll(name='vx', active_count=3, cash_settled=True, business_days_offset=5, first_notice=False), base_tick=None, sub_tick=None, contract_limit=None, product_subtype=None, security_group='VX', true_underlying_code=None, clearport_code=None, legacy_code=None, legacy_exchange_code=None, option_products=None), contract_size=Decimal('1000.0'), main_fraction=Decimal('0.0'), sub_fraction=Decimal('0.0'), first_notice_date=None, roll_target_symbol='/VXM25', true_underlying_symbol=None, future_etf_equivalent=None, tick_sizes=[TickSize(value=Decimal('0.05'), threshold=None, symbol=None)], option_tick_sizes=None, spread_tick_sizes=[TickSize(value=Decimal('0.01'), threshold=None, symbol='/VXM25'), TickSize(value=Decimal('0.01'), threshold=None, symbol='/VXN25')])"
      ]
     },
     "execution_count": 5,
     "metadata": {},
     "output_type": "execute_result"
    }
   ],
   "execution_count": 5
  },
  {
   "metadata": {
    "ExecuteTime": {
     "end_time": "2025-04-23T09:15:46.773162Z",
     "start_time": "2025-04-23T09:15:45.966022Z"
    }
   },
   "cell_type": "code",
   "source": "get_market_data(session, 'Future', 'VX')",
   "id": "ac48a3b39752ec27",
   "outputs": [
    {
     "ename": "KeyError",
     "evalue": "'data'",
     "output_type": "error",
     "traceback": [
      "\u001B[31m---------------------------------------------------------------------------\u001B[39m",
      "\u001B[31mKeyError\u001B[39m                                  Traceback (most recent call last)",
      "\u001B[36mCell\u001B[39m\u001B[36m \u001B[39m\u001B[32mIn[15]\u001B[39m\u001B[32m, line 1\u001B[39m\n\u001B[32m----> \u001B[39m\u001B[32m1\u001B[39m \u001B[43mget_market_data\u001B[49m\u001B[43m(\u001B[49m\u001B[43msession\u001B[49m\u001B[43m,\u001B[49m\u001B[43m \u001B[49m\u001B[33;43m'\u001B[39;49m\u001B[33;43mFuture\u001B[39;49m\u001B[33;43m'\u001B[39;49m\u001B[43m,\u001B[49m\u001B[43m \u001B[49m\u001B[33;43m'\u001B[39;49m\u001B[33;43mVX\u001B[39;49m\u001B[33;43m'\u001B[39;49m\u001B[43m)\u001B[49m\n",
      "\u001B[36mFile \u001B[39m\u001B[32m~\\PycharmProjects\\tastytrade-bot\\.venv\\Lib\\site-packages\\tastytrade\\instruments.py:1462\u001B[39m, in \u001B[36mget_market_data\u001B[39m\u001B[34m(session, instrumentType, symbol)\u001B[39m\n\u001B[32m   1458\u001B[39m \u001B[38;5;250m\u001B[39m\u001B[33;03m\"\"\"\u001B[39;00m\n\u001B[32m   1459\u001B[39m \u001B[33;03mTest\u001B[39;00m\n\u001B[32m   1460\u001B[39m \u001B[33;03m\"\"\"\u001B[39;00m\n\u001B[32m   1461\u001B[39m \u001B[38;5;66;03m#symbol = symbol.replace(\"/\", \"\")\u001B[39;00m\n\u001B[32m-> \u001B[39m\u001B[32m1462\u001B[39m data = \u001B[43msession\u001B[49m\u001B[43m.\u001B[49m\u001B[43m_get\u001B[49m\u001B[43m(\u001B[49m\u001B[33;43mf\u001B[39;49m\u001B[33;43m\"\u001B[39;49m\u001B[33;43m/market-data/\u001B[39;49m\u001B[38;5;132;43;01m{\u001B[39;49;00m\u001B[43minstrumentType\u001B[49m\u001B[38;5;132;43;01m}\u001B[39;49;00m\u001B[33;43m/\u001B[39;49m\u001B[38;5;132;43;01m{\u001B[39;49;00m\u001B[43msymbol\u001B[49m\u001B[38;5;132;43;01m}\u001B[39;49;00m\u001B[33;43m\"\u001B[39;49m\u001B[43m)\u001B[49m\n\u001B[32m   1463\u001B[39m \u001B[38;5;28;01mreturn\u001B[39;00m data\n",
      "\u001B[36mFile \u001B[39m\u001B[32m~\\PycharmProjects\\tastytrade-bot\\.venv\\Lib\\site-packages\\tastytrade\\session.py:382\u001B[39m, in \u001B[36mSession._get\u001B[39m\u001B[34m(self, url, **kwargs)\u001B[39m\n\u001B[32m    380\u001B[39m \u001B[38;5;28;01mdef\u001B[39;00m\u001B[38;5;250m \u001B[39m\u001B[34m_get\u001B[39m(\u001B[38;5;28mself\u001B[39m, url, **kwargs) -> \u001B[38;5;28mdict\u001B[39m[\u001B[38;5;28mstr\u001B[39m, Any]:\n\u001B[32m    381\u001B[39m     response = \u001B[38;5;28mself\u001B[39m.sync_client.get(url, timeout=\u001B[32m30\u001B[39m, **kwargs)\n\u001B[32m--> \u001B[39m\u001B[32m382\u001B[39m     \u001B[38;5;28;01mreturn\u001B[39;00m \u001B[43mvalidate_and_parse\u001B[49m\u001B[43m(\u001B[49m\u001B[43mresponse\u001B[49m\u001B[43m)\u001B[49m\n",
      "\u001B[36mFile \u001B[39m\u001B[32m~\\PycharmProjects\\tastytrade-bot\\.venv\\Lib\\site-packages\\tastytrade\\utils.py:274\u001B[39m, in \u001B[36mvalidate_and_parse\u001B[39m\u001B[34m(response)\u001B[39m\n\u001B[32m    272\u001B[39m \u001B[38;5;28;01mdef\u001B[39;00m\u001B[38;5;250m \u001B[39m\u001B[34mvalidate_and_parse\u001B[39m(response: Response) -> \u001B[38;5;28mdict\u001B[39m[\u001B[38;5;28mstr\u001B[39m, Any]:\n\u001B[32m    273\u001B[39m     validate_response(response)\n\u001B[32m--> \u001B[39m\u001B[32m274\u001B[39m     \u001B[38;5;28;01mreturn\u001B[39;00m \u001B[43mresponse\u001B[49m\u001B[43m.\u001B[49m\u001B[43mjson\u001B[49m\u001B[43m(\u001B[49m\u001B[43m)\u001B[49m\u001B[43m[\u001B[49m\u001B[33;43m\"\u001B[39;49m\u001B[33;43mdata\u001B[39;49m\u001B[33;43m\"\u001B[39;49m\u001B[43m]\u001B[49m\n",
      "\u001B[31mKeyError\u001B[39m: 'data'"
     ]
    }
   ],
   "execution_count": 15
  },
  {
   "metadata": {},
   "cell_type": "code",
   "outputs": [],
   "execution_count": null,
   "source": "",
   "id": "1b1c50f36707a14d"
  }
 ],
 "metadata": {
  "kernelspec": {
   "display_name": "Python 3",
   "language": "python",
   "name": "python3"
  },
  "language_info": {
   "codemirror_mode": {
    "name": "ipython",
    "version": 2
   },
   "file_extension": ".py",
   "mimetype": "text/x-python",
   "name": "python",
   "nbconvert_exporter": "python",
   "pygments_lexer": "ipython2",
   "version": "2.7.6"
  }
 },
 "nbformat": 4,
 "nbformat_minor": 5
}
